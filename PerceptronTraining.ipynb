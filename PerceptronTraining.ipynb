{
  "nbformat": 4,
  "nbformat_minor": 0,
  "metadata": {
    "colab": {
      "name": "PerceptronTraining.ipynb",
      "provenance": [],
      "mount_file_id": "1In9EwbNfj8Lt4cu39RVW0tf7PQHBr4FJ",
      "authorship_tag": "ABX9TyMpthjmLGs+Kx97r6JwfaUc",
      "include_colab_link": true
    },
    "kernelspec": {
      "name": "python3",
      "display_name": "Python 3"
    },
    "language_info": {
      "name": "python"
    }
  },
  "cells": [
    {
      "cell_type": "markdown",
      "metadata": {
        "id": "view-in-github",
        "colab_type": "text"
      },
      "source": [
        "<a href=\"https://colab.research.google.com/github/DrashtiJasani210/MLnow_GirlScript/blob/main/PerceptronTraining.ipynb\" target=\"_parent\"><img src=\"https://colab.research.google.com/assets/colab-badge.svg\" alt=\"Open In Colab\"/></a>"
      ]
    },
    {
      "cell_type": "markdown",
      "metadata": {
        "id": "ljGoL3JJk87f"
      },
      "source": [
        "Link: [Open Google Drive](https://drive.google.com/drive/folders/1QjBNZysF1cayMfFGiCzPLpBtH-gtdeDG)\n",
        "#Perception Training Model"
      ]
    },
    {
      "cell_type": "code",
      "metadata": {
        "id": "Zr9Sfte3g5p_",
        "colab": {
          "base_uri": "https://localhost:8080/"
        },
        "outputId": "75fb5cfc-983c-4d7a-f72d-918dc9130b4e"
      },
      "source": [
        "print('hello world')\n"
      ],
      "execution_count": 1,
      "outputs": [
        {
          "output_type": "stream",
          "text": [
            "hello world\n"
          ],
          "name": "stdout"
        }
      ]
    }
  ]
}